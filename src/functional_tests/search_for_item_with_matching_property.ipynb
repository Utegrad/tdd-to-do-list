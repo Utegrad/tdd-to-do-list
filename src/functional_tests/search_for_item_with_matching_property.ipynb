{
 "cells": [
  {
   "cell_type": "code",
   "execution_count": 1,
   "metadata": {
    "collapsed": true,
    "pycharm": {
     "is_executing": false
    }
   },
   "outputs": [
    {
     "data": {
      "text/plain": "True"
     },
     "metadata": {},
     "output_type": "execute_result",
     "execution_count": 1
    }
   ],
   "source": [
    "\n",
    "items = ('cat', 'dog', 'lizard', 'horse', 'frog')\n",
    "sub_s = 'a'\n",
    "sub_s in items[0]\n"
   ]
  },
  {
   "cell_type": "code",
   "execution_count": 2,
   "outputs": [
    {
     "data": {
      "text/plain": "['cat', 'dog', 'lizard', 'horse', 'frog']"
     },
     "metadata": {},
     "output_type": "execute_result",
     "execution_count": 2
    }
   ],
   "source": [
    "class Critter:\n",
    "    def __init__(self, type, name):\n",
    "        self.type = type\n",
    "        self.name = name\n",
    "\n",
    "items = (\n",
    "    Critter('mammal', 'cat'),\n",
    "    Critter('mammal', 'dog'),\n",
    "    Critter('reptile', 'lizard'),\n",
    "    Critter('mammal', 'horse'),\n",
    "    Critter('amphibian', 'frog'),\n",
    ")\n",
    "list_of_names = [item.name for item in items]\n",
    "list_of_names\n"
   ],
   "metadata": {
    "collapsed": false,
    "pycharm": {
     "name": "#%%\n",
     "is_executing": false
    }
   }
  },
  {
   "cell_type": "code",
   "execution_count": 29,
   "outputs": [
    {
     "data": {
      "text/plain": "True"
     },
     "metadata": {},
     "output_type": "execute_result",
     "execution_count": 29
    }
   ],
   "source": [
    "class Critter:\n",
    "    def __init__(self, type, name):\n",
    "        self.type = type\n",
    "        self.name = name\n",
    "\n",
    "items = (\n",
    "    Critter('mammal', 'cat'),\n",
    "    Critter('mammal', 'dog'),\n",
    "    Critter('reptile', 'lizard'),\n",
    "    Critter('mammal', 'horse'),\n",
    "    Critter('amphibian', 'frog'),\n",
    ")\n",
    "list_of_names = [item.name for item in items]\n",
    "sub_s = 'a'\n",
    "any(map(lambda a, b: a in b, list(sub_s * len(list_of_names)), list_of_names))\n"
   ],
   "metadata": {
    "collapsed": false,
    "pycharm": {
     "name": "#%% is sub_s contained in any of the list_of_names items - should be yes with 'a'\n",
     "is_executing": false
    }
   }
  },
  {
   "cell_type": "code",
   "execution_count": 28,
   "outputs": [
    {
     "data": {
      "text/plain": "False"
     },
     "metadata": {},
     "output_type": "execute_result",
     "execution_count": 28
    }
   ],
   "source": [
    "class Critter:\n",
    "    def __init__(self, type, name):\n",
    "        self.type = type\n",
    "        self.name = name\n",
    "\n",
    "items = (\n",
    "    Critter('mammal', 'cat'),\n",
    "    Critter('mammal', 'dog'),\n",
    "    Critter('reptile', 'lizard'),\n",
    "    Critter('mammal', 'horse'),\n",
    "    Critter('amphibian', 'frog'),\n",
    ")\n",
    "list_of_names = [item.name for item in items]\n",
    "sub_s = 'n'\n",
    "any(map(lambda a, b: a in b, list(sub_s * len(list_of_names)), list_of_names))\n"
   ],
   "metadata": {
    "collapsed": false,
    "pycharm": {
     "name": "#%% is sub_s contained in any of the list_of_names items - should be no with 'n'\n",
     "is_executing": false
    }
   }
  },
  {
   "cell_type": "code",
   "execution_count": 35,
   "outputs": [
    {
     "data": {
      "text/plain": "False"
     },
     "metadata": {},
     "output_type": "execute_result",
     "execution_count": 35
    }
   ],
   "source": [
    "class Critter:\n",
    "    def __init__(self, type, name):\n",
    "        self.type = type\n",
    "        self.name = name\n",
    "\n",
    "    def _to_str(self):\n",
    "        return f\"{self.type} : {self.name}\"\n",
    "\n",
    "    def __repr__(self):\n",
    "        return f\"Critter() {self._to_str()}\"\n",
    "\n",
    "    def __str__(self):\n",
    "        return f\"{self.type} - {self.name}\"\n",
    "\n",
    "items = (\n",
    "    Critter('mammal', 'cat'),\n",
    "    Critter('mammal', 'dog'),\n",
    "    Critter('reptile', 'lizard'),\n",
    "    Critter('mammal', 'horse'),\n",
    "    Critter('amphibian', 'frog'),\n",
    ")\n",
    "value = 'alien'\n",
    "any([i for i in items if i.type == value])\n"
   ],
   "metadata": {
    "collapsed": false,
    "pycharm": {
     "name": "#%% Are there any matching critters\n",
     "is_executing": false
    }
   }
  },
  {
   "cell_type": "code",
   "execution_count": 37,
   "outputs": [
    {
     "data": {
      "text/plain": "False"
     },
     "metadata": {},
     "output_type": "execute_result",
     "execution_count": 37
    }
   ],
   "source": [
    "class Critter:\n",
    "    def __init__(self, type, name):\n",
    "        self.type = type\n",
    "        self.name = name\n",
    "\n",
    "    def _to_str(self):\n",
    "        return f\"{self.type} : {self.name}\"\n",
    "\n",
    "    def __repr__(self):\n",
    "        return f\"Critter() {self._to_str()}\"\n",
    "\n",
    "    def __str__(self):\n",
    "        return f\"{self.type} - {self.name}\"\n",
    "\n",
    "items = (\n",
    "    Critter('mammal', 'cat'),\n",
    "    Critter('mammal', 'dog'),\n",
    "    Critter('reptile', 'lizard'),\n",
    "    Critter('mammal', 'horse'),\n",
    "    Critter('amphibian', 'frog'),\n",
    ")\n",
    "value = 'nope'\n",
    "any([i for i in items if value in i.name])\n"
   ],
   "metadata": {
    "collapsed": false,
    "pycharm": {
     "name": "#%% any critters where name contains value\n",
     "is_executing": false
    }
   }
  },
  {
   "cell_type": "code",
   "execution_count": 39,
   "outputs": [
    {
     "data": {
      "text/plain": "[Critter() mammal : horse]"
     },
     "metadata": {},
     "output_type": "execute_result",
     "execution_count": 39
    }
   ],
   "source": [
    "class Critter:\n",
    "    def __init__(self, type, name):\n",
    "        self.type = type\n",
    "        self.name = name\n",
    "\n",
    "    def _to_str(self):\n",
    "        return f\"{self.type} : {self.name}\"\n",
    "\n",
    "    def __repr__(self):\n",
    "        return f\"Critter() {self._to_str()}\"\n",
    "\n",
    "    def __str__(self):\n",
    "        return f\"{self.type} - {self.name}\"\n",
    "\n",
    "items = (\n",
    "    Critter('mammal', 'cat'),\n",
    "    Critter('mammal', 'dog'),\n",
    "    Critter('reptile', 'lizard'),\n",
    "    Critter('mammal', 'horse'),\n",
    "    Critter('amphibian', 'frog'),\n",
    ")\n",
    "value = 'ors'\n",
    "[i for i in items if value in i.name]\n",
    "\n"
   ],
   "metadata": {
    "collapsed": false,
    "pycharm": {
     "name": "#%% list of critters with name containing value\n",
     "is_executing": false
    }
   }
  }
 ],
 "metadata": {
  "language_info": {
   "codemirror_mode": {
    "name": "ipython",
    "version": 2
   },
   "file_extension": ".py",
   "mimetype": "text/x-python",
   "name": "python",
   "nbconvert_exporter": "python",
   "pygments_lexer": "ipython2",
   "version": "2.7.6"
  },
  "kernelspec": {
   "name": "python3",
   "language": "python",
   "display_name": "Python 3"
  },
  "pycharm": {
   "stem_cell": {
    "cell_type": "raw",
    "source": [],
    "metadata": {
     "collapsed": false
    }
   }
  }
 },
 "nbformat": 4,
 "nbformat_minor": 0
}