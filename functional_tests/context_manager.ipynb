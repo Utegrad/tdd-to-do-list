{
 "cells": [
  {
   "cell_type": "code",
   "execution_count": null,
   "metadata": {
    "collapsed": true
   },
   "outputs": [],
   "source": [
    "\n",
    "class MyClass:\n",
    "    def __init__(self):\n",
    "        print(\"Initializing an Awesome Class\")\n",
    "          \n",
    "    def doSomething(self):\n",
    "        print(\"Doing Something\")\n",
    "          \n",
    "    def __exit__(self,arg1,arg2,arg3):\n",
    "        print(\"Just Exiting as one should\")\n",
    "        print('arg1 = ',arg1,'of type ',type(arg1))\n",
    "        print('arg2 = ',arg2,'of type ',type(arg2))\n",
    "        print('arg3 = ',arg3,'of type ',type(arg3))\n",
    "          \n",
    "    def __enter__(self):\n",
    "        print(\"Knock Knock\")\n",
    "        return self\n",
    " \n",
    " \n",
    "  \n",
    "with MyClass() as myObject:\n",
    "    myObject.doSomething()\n"
   ]
  }
 ],
 "metadata": {
  "language_info": {
   "codemirror_mode": {
    "name": "ipython",
    "version": 2
   },
   "file_extension": ".py",
   "mimetype": "text/x-python",
   "name": "python",
   "nbconvert_exporter": "python",
   "pygments_lexer": "ipython2",
   "version": "2.7.6"
  },
  "kernelspec": {
   "name": "python3",
   "language": "python",
   "display_name": "Python 3"
  },
  "pycharm": {
   "stem_cell": {
    "cell_type": "raw",
    "source": [],
    "metadata": {
     "collapsed": false
    }
   }
  }
 },
 "nbformat": 4,
 "nbformat_minor": 0
}